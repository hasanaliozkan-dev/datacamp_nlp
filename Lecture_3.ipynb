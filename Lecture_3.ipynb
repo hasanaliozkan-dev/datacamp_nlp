{
  "nbformat": 4,
  "nbformat_minor": 0,
  "metadata": {
    "colab": {
      "provenance": [],
      "authorship_tag": "ABX9TyMvsE2bRKeigF/wCq5gY0RR",
      "include_colab_link": true
    },
    "kernelspec": {
      "name": "python3",
      "display_name": "Python 3"
    },
    "language_info": {
      "name": "python"
    }
  },
  "cells": [
    {
      "cell_type": "markdown",
      "metadata": {
        "id": "view-in-github",
        "colab_type": "text"
      },
      "source": [
        "<a href=\"https://colab.research.google.com/github/hasanaliozkan-dev/datacamp_nlp/blob/main/Lecture_3.ipynb\" target=\"_parent\"><img src=\"https://colab.research.google.com/assets/colab-badge.svg\" alt=\"Open In Colab\"/></a>"
      ]
    },
    {
      "cell_type": "markdown",
      "source": [
        "### ***EchoBot I***\n",
        "Hello, World!\n",
        "\n",
        "You'll begin learning how to build chatbots in Python by writing two functions to build the simplest bot possible: EchoBot. EchoBot just responds by replying with the same message it receives.\n",
        "\n",
        "In this exercise, you'll define a function that responds to a user's message. In the next exercise, you'll complete EchoBot by writing a function to send a message to the bot."
      ],
      "metadata": {
        "id": "Nkidg_FFwk4L"
      }
    },
    {
      "cell_type": "code",
      "execution_count": null,
      "metadata": {
        "id": "HBLfrmdZwhXH"
      },
      "outputs": [],
      "source": [
        "bot_template = \"BOT : {0}\"\n",
        "user_template = \"USER : {0}\"\n",
        "\n",
        "# Define a function that responds to a user's message: respond\n",
        "def respond(message):\n",
        "    # Concatenate the user's message to the end of a standard bot respone\n",
        "    bot_message = \"I can hear you! You said: \" + message\n",
        "    # Return the result\n",
        "    return bot_message\n",
        "\n",
        "# Test function\n",
        "print(respond(\"hello!\"))"
      ]
    },
    {
      "cell_type": "markdown",
      "source": [
        "### ***EchoBot II***\n",
        "Having written your respond() function, you'll now define a function called send_message() with a single parameter message which logs the message and the bot's response."
      ],
      "metadata": {
        "id": "CZ_JQVHKNwHK"
      }
    },
    {
      "cell_type": "code",
      "source": [
        "# Create templates\n",
        "bot_template = \"BOT : {0}\"\n",
        "user_template = \"USER : {0}\"\n",
        "\n",
        "# Define a function that sends a message to the bot: send_message\n",
        "def send_message(message):\n",
        "    # Print user_template including the user_message\n",
        "    print(user_template.format(message))\n",
        "    # Get the bot's response to the message\n",
        "    response = respond(message)\n",
        "    # Print the bot template including the bot's response.\n",
        "    print(bot_template.format(response))\n",
        "\n",
        "# Send a message to the bot\n",
        "send_message(\"hello\")"
      ],
      "metadata": {
        "id": "7SVC4rzsNy5y"
      },
      "execution_count": null,
      "outputs": []
    },
    {
      "cell_type": "markdown",
      "source": [
        "### ***Chitchat***\n",
        "Now you're going to leave the simple EchoBot behind and create a bot which can answer simple questions such as \"What's your name?\" and \"What's today's weather?\"\n",
        "\n",
        "You'll use a dictionary with these questions as keys and the correct responses as values.\n",
        "\n",
        "This means the bot will only respond correctly if the message matches exactly, which is a big limitation. In later exercises you will create much more robust solutions.\n",
        "\n",
        "The send_message() function has already been defined for you, as well as the bot_template and user_template variables."
      ],
      "metadata": {
        "id": "o4-ZcpetOIKD"
      }
    },
    {
      "cell_type": "code",
      "source": [
        "# Define variables\n",
        "name = \"Greg\"\n",
        "weather = \"cloudy\"\n",
        "\n",
        "# Define a dictionary with the predefined responses\n",
        "responses = {\n",
        "  \"what's your name?\": \"my name is {0}\".format(name),\n",
        "  \"what's today's weather?\": \"the weather is {0}\".format(weather),\n",
        "  \"default\": \"default message\"\n",
        "}\n",
        "\n",
        "# Return the matching response if there is one, default otherwise\n",
        "def respond(message):\n",
        "    # Check if the message is in the responses\n",
        "    if message in responses:\n",
        "        # Return the matching message\n",
        "        bot_message = responses[message]\n",
        "    else:\n",
        "        # Return the \"default\" message\n",
        "        bot_message = responses[\"default\"]\n",
        "    return bot_message\n",
        "\n",
        "  "
      ],
      "metadata": {
        "id": "qbxJnL-wOadZ"
      },
      "execution_count": null,
      "outputs": []
    },
    {
      "cell_type": "markdown",
      "source": [
        "### ***Adding variety***\n",
        "It can get a little boring hearing the same old answers over and over. In this exercise, you'll add some variation. If you ask your bot how it's feeling, the likelihood that it responds with \"oh I'm great!\" or \"I'm very sad today\" should be equal.\n",
        "\n",
        "Here, you'll use the random module - specifically random.choice(ls) - which randomly selects an element from a list ls.\n",
        "\n",
        "A dictionary called responses, which maps each message to a list of possible responses, has been defined for you."
      ],
      "metadata": {
        "id": "9XtQA8K3PQHL"
      }
    },
    {
      "cell_type": "code",
      "source": [
        "# Import the random module\n",
        "import random\n",
        "\n",
        "name = \"Greg\"\n",
        "weather = \"cloudy\"\n",
        "\n",
        "# Define a dictionary containing a list of responses for each message\n",
        "responses = {\n",
        "  \"what's your name?\": [\n",
        "      \"my name is {0}\".format(name),\n",
        "      \"they call me {0}\".format(name),\n",
        "      \"I go by {0}\".format(name)\n",
        "   ],\n",
        "  \"what's today's weather?\": [\n",
        "      \"the weather is {0}\".format(weather),\n",
        "      \"it's {0} today\".format(weather)\n",
        "    ],\n",
        "  \"default\": [\"default message\"]\n",
        "}\n",
        "\n",
        "# Use random.choice() to choose a matching response\n",
        "def respond(message):\n",
        "    # Check if the message is in the responses\n",
        "    if message in responses:\n",
        "        # Return a random matching response\n",
        "        bot_message = random.choice(responses[message])\n",
        "    else:\n",
        "        # Return a random \"default\" response\n",
        "        bot_message = random.choice(responses[\"default\"])\n",
        "    return bot_message"
      ],
      "metadata": {
        "id": "7KEXP640PSFI"
      },
      "execution_count": null,
      "outputs": []
    },
    {
      "cell_type": "markdown",
      "source": [
        "### ***ELIZA I: asking questions***\n",
        "Asking questions is a great way to create an engaging conversation. Here, you'll create the very first hint of ELIZA's famous personality, by responding to statements with a question and responding to questions with answers.\n",
        "\n",
        "A dictionary of responses with \"question\" and \"statement\" as keys and lists of appropriate responses as values has already been defined for you. Explore this in the Shell with responses.keys() and responses[\"question\"]."
      ],
      "metadata": {
        "id": "GsESO5yVPmac"
      }
    },
    {
      "cell_type": "code",
      "source": [
        "import random\n",
        "\n",
        "def respond(message):\n",
        "    # Check for a question mark\n",
        "    if message.endswith('?'):\n",
        "        # Return a random question\n",
        "        return random.choice(responses[\"question\"])\n",
        "    # Return a random statement\n",
        "    return random.choice(responses[\"statement\"])\n",
        "\n",
        "\n",
        "# Send messages ending in a question mark\n",
        "send_message(\"what's today's weather?\")\n",
        "send_message(\"what's today's weather?\")\n",
        "\n",
        "# Send messages which don't end with a question mark\n",
        "send_message(\"I love building chatbots\")\n",
        "send_message(\"I love building chatbots\")\n"
      ],
      "metadata": {
        "id": "ohC0c4wLPopR"
      },
      "execution_count": null,
      "outputs": []
    },
    {
      "cell_type": "markdown",
      "source": [
        "### ***ELIZA II: Extracting key phrases***\n",
        "The really clever thing about ELIZA is the way the program appears to understand what you told it by occasionally including phrases uttered by the user in its responses.\n",
        "\n",
        "In this exercise, you will match messages against some common patterns and extract phrases using re.search(). A dictionary called rules has already been defined, which matches the following patterns:\n",
        "\n",
        "\"do you think (.*)\"\n",
        "\"do you remember (.*)\"\n",
        "\"I want (.*)\"\n",
        "\"if (.*)\"\n",
        "Inspect this dictionary in the Shell before starting the exercise."
      ],
      "metadata": {
        "id": "mNE7SMDpP7ZS"
      }
    },
    {
      "cell_type": "code",
      "source": [
        "# Define match_rule()\n",
        "def match_rule(rules, message):\n",
        "    response, phrase = \"default\", None\n",
        "    \n",
        "    # Iterate over the rules dictionary\n",
        "    for pattern,responses in rules.items():\n",
        "        # Create a match object\n",
        "        match = re.search(pattern,message)\n",
        "        if match is not None:\n",
        "            # Choose a random response\n",
        "            response = random.choice(responses)\n",
        "            if '{0}' in response:\n",
        "                phrase = match.group(1)\n",
        "    # Return the response and phrase\n",
        "    return response.format(phrase)\n",
        "\n",
        "# Test match_rule\n",
        "print(match_rule(rules, \"do you remember your last birthday\"))"
      ],
      "metadata": {
        "id": "E7OPBOpbQPic"
      },
      "execution_count": null,
      "outputs": []
    },
    {
      "cell_type": "markdown",
      "source": [
        "### ***ELIZA III: Pronouns***\n",
        "To make responses grammatically coherent, you'll want to transform the extracted phrases from first to second person and vice versa. In English, conjugating verbs is easy, and simply swapping \"me\" and 'you', \"my\" and \"your\" works in most cases.\n",
        "\n",
        "In this exercise, you'll define a function called replace_pronouns() which uses re.sub() to map \"me\" and \"my\" to \"you\" and \"your\" (and vice versa) in a string."
      ],
      "metadata": {
        "id": "Bj02Ies-QP79"
      }
    },
    {
      "cell_type": "code",
      "source": [
        "# Define replace_pronouns()\n",
        "def replace_pronouns(message):\n",
        "\n",
        "    message = message.lower()\n",
        "    if 'me' in message:\n",
        "        # Replace 'me' with 'you'\n",
        "        return re.sub('me','you',message)\n",
        "    if 'my' in message:\n",
        "        # Replace 'my' with 'your'\n",
        "        return re.sub('my','your',message)\n",
        "    if 'your' in message:\n",
        "        # Replace 'your' with 'my'\n",
        "        return re.sub('your','my',message)\n",
        "    if 'you' in message:\n",
        "        # Replace 'you' with 'me'\n",
        "        return re.sub('you','me',message)\n",
        "\n",
        "    return message\n",
        "\n",
        "print(replace_pronouns(\"my last birthday\"))\n",
        "print(replace_pronouns(\"when you went to Florida\"))\n",
        "print(replace_pronouns(\"I had my own castle\"))"
      ],
      "metadata": {
        "id": "mR1a_BERQTLh"
      },
      "execution_count": null,
      "outputs": []
    },
    {
      "cell_type": "markdown",
      "source": [
        "### ***ELIZA IV: Putting it all together***\n",
        "Now you're going to put everything from the previous exercises together and experience the magic! The match_rule(), send_message(), and replace_pronouns() functions have already been defined, and the rules dictionary is available in your workspace.\n",
        "\n",
        "Your job here is to write a function called respond() with a single argument message which creates an appropriate response to be handled by send_message()."
      ],
      "metadata": {
        "id": "Vc66n5Q5QTjQ"
      }
    },
    {
      "cell_type": "code",
      "source": [
        "# Define respond()\n",
        "def respond(message):\n",
        "    # Call match_rule\n",
        "    response, phrase = match_rule(rules,message)\n",
        "    if '{0}' in response:\n",
        "        # Replace the pronouns in the phrase\n",
        "        phrase = replace_pronouns(phrase)\n",
        "        # Include the phrase in the response\n",
        "        response = response.format(phrase)\n",
        "    return response\n",
        "\n",
        "# Send the messages\n",
        "send_message(\"do you remember your last birthday\")\n",
        "send_message(\"do you think humans should be worried about AI\")\n",
        "send_message(\"I want a robot friend\")\n",
        "send_message(\"what if you could be anything you wanted\")"
      ],
      "metadata": {
        "id": "bM86GYPiQYym"
      },
      "execution_count": null,
      "outputs": []
    },
    {
      "cell_type": "markdown",
      "source": [
        "### ***Intent classification with regex I***\n",
        "You'll begin by implementing a very simple technique to recognize intents - looking for the presence of keywords.\n",
        "\n",
        "A dictionary, keywords, has already been defined. It has the intents \"greet\", \"goodbye\", and \"thankyou\" as keys, and lists of keywords as the corresponding values. For example, keywords[\"greet\"] is set to \"[\"hello\",\"hi\",\"hey\"].\n",
        "\n",
        "Also defined is a second dictionary, responses, indicating how the bot should respond to each of these intents. It also has a default response with the key \"default\".\n",
        "\n",
        "The function send_message(), along with the bot and user templates, have also already been defined. Your job in this exercise is to create a dictionary with the intents as keys and regex objects as values."
      ],
      "metadata": {
        "id": "26Ulp-3lU4RU"
      }
    },
    {
      "cell_type": "code",
      "source": [
        "# Define a dictionary of patterns\n",
        "patterns = {}\n",
        "\n",
        "# Iterate over the keywords dictionary\n",
        "for intent, keys in keywords.items():\n",
        "    # Create regular expressions and compile them into pattern objects\n",
        "    patterns[intent] = re.compile('|'.join(keys))\n",
        "    \n",
        "# Print the patterns\n",
        "print(patterns)"
      ],
      "metadata": {
        "id": "LgU-SZ20VrmZ"
      },
      "execution_count": null,
      "outputs": []
    },
    {
      "cell_type": "markdown",
      "source": [
        "### ***Intent classification with regex II***\n",
        "With your patterns dictionary created, it's now time to define a function to find the intent of a message."
      ],
      "metadata": {
        "id": "6SPU_4HLV90C"
      }
    },
    {
      "cell_type": "code",
      "source": [
        "# Define a function to find the intent of a message\n",
        "def match_intent(message):\n",
        "    matched_intent = None\n",
        "    for intent, pattern in patterns.items():\n",
        "        # Check if the pattern occurs in the message \n",
        "        if pattern.search(message):\n",
        "            matched_intent = intent\n",
        "    return matched_intent\n",
        "\n",
        "# Define a respond function\n",
        "def respond(message):\n",
        "    # Call the match_intent function\n",
        "    intent = match_intent(message)\n",
        "    # Fall back to the default response\n",
        "    key = \"default\"\n",
        "    if intent in responses:\n",
        "        key = intent\n",
        "    return responses[key]\n",
        "\n",
        "# Send messages\n",
        "send_message(\"hello!\")\n",
        "send_message(\"bye byeee\")\n",
        "send_message(\"thanks very much!\")"
      ],
      "metadata": {
        "id": "BG29nfoTWEiC"
      },
      "execution_count": null,
      "outputs": []
    },
    {
      "cell_type": "markdown",
      "source": [
        "### ***Entity extraction with regex***\n",
        "Now you'll use another simple method, this time for finding a person's name in a sentence, such as \"hello, my name is David Copperfield\".\n",
        "\n",
        "You'll look for the keywords \"name\" or \"call(ed)\", and find capitalized words using regex and assume those are names. Your job in this exercise is to define a find_name() function to do this."
      ],
      "metadata": {
        "id": "bogYmcIkWd0l"
      }
    },
    {
      "cell_type": "code",
      "source": [
        "# Define find_name()\n",
        "def find_name(message):\n",
        "    name = None\n",
        "    # Create a pattern for checking if the keywords occur\n",
        "    name_keyword = re.compile('name|call')\n",
        "    # Create a pattern for finding capitalized words\n",
        "    name_pattern = re.compile('\\b[A-Z]\\b')\n",
        "    if name_keyword.search(message):\n",
        "        # Get the matching words in the string\n",
        "        name_words = name_pattern.findall(message)\n",
        "        if len(name_words) > 0:\n",
        "            # Return the name if the keywords are present\n",
        "            name = ' '.join(name_words)\n",
        "    return name\n",
        "\n",
        "# Define respond()\n",
        "def respond(message):\n",
        "    # Find the name\n",
        "    name = find_name(message)\n",
        "    if name is None:\n",
        "        return \"Hi there!\"\n",
        "    else:\n",
        "        return \"Hello, {0}!\".format(name)\n",
        "\n",
        "# Send messages\n",
        "send_message(\"my name is David Copperfield\")\n",
        "send_message(\"call me Ishmael\")\n",
        "send_message(\"People call me Cassandra\")"
      ],
      "metadata": {
        "id": "RbQDbpk6WhW6"
      },
      "execution_count": null,
      "outputs": []
    },
    {
      "cell_type": "markdown",
      "source": [
        "### ***word vectors with spaCy***\n",
        "In this exercise you'll get your first experience with word vectors! You're going to use the ATIS dataset, which contains thousands of sentences from real people interacting with a flight booking system.\n",
        "\n",
        "The user utterances are available in the list sentences, and the corresponding intents in labels.\n",
        "\n",
        "Your job is to create a 2D array X with as many rows as there are sentences in the dataset, where each row is a vector describing that sentence."
      ],
      "metadata": {
        "id": "icqdmPDLXASc"
      }
    },
    {
      "cell_type": "code",
      "source": [
        "# Load the spacy model: nlp\n",
        "nlp = spacy.load('en')\n",
        "\n",
        "# Calculate the length of sentences\n",
        "n_sentences = len(sentences)\n",
        "\n",
        "# Calculate the dimensionality of nlp\n",
        "embedding_dim = nlp.vocab.vectors_length\n",
        "\n",
        "# Initialize the array with zeros: X\n",
        "X = np.zeros((n_sentences, embedding_dim))\n",
        "\n",
        "# Iterate over the sentences\n",
        "for idx, sentence in enumerate(sentences):\n",
        "    # Pass each each sentence to the nlp object to create a document\n",
        "    doc = nlp(sentence)\n",
        "    # Save the document's .vector attribute to the corresponding row in X\n",
        "    X[idx, :] = doc.vector"
      ],
      "metadata": {
        "id": "6Q3UE3upXIxU"
      },
      "execution_count": null,
      "outputs": []
    },
    {
      "cell_type": "markdown",
      "source": [
        "### ***Intent classification with sklearn***\n",
        "An array X containing vectors describing each of the sentences in the ATIS dataset has been created for you, along with a 1D array y containing the labels. The labels are integers corresponding to the intents in the dataset. For example, label 0 corresponds to the intent atis_flight.\n",
        "\n",
        "Now, you'll use the scikit-learn library to train a classifier on this same dataset. Specifically, you will fit and evaluate a support vector classifier."
      ],
      "metadata": {
        "id": "osXhuTQ9XJJw"
      }
    },
    {
      "cell_type": "code",
      "source": [
        "# Import SVC\n",
        "from sklearn.svm import SVC\n",
        "\n",
        "# Create a support vector classifier\n",
        "clf = SVC(C=1)\n",
        "\n",
        "# Fit the classifier using the training data\n",
        "clf.fit(X_train,y_train)\n",
        "\n",
        "# Predict the labels of the test set\n",
        "y_pred = clf.predict(X_test)\n",
        "\n",
        "# Count the number of correct predictions\n",
        "n_correct = 0\n",
        "for i in range(len(y_test)):\n",
        "    if y_pred[i] == y_test[i]:\n",
        "        n_correct += 1\n",
        "\n",
        "print(\"Predicted {0} correctly out of {1} test examples\".format(n_correct, len(y_test)))"
      ],
      "metadata": {
        "id": "ZhVep8OJXVnl"
      },
      "execution_count": null,
      "outputs": []
    },
    {
      "cell_type": "markdown",
      "source": [
        "### ***Using spaCy's entity recognizer***\n",
        "In this exercise, you'll use spaCy's built-in entity recognizer to extract names, dates, and organizations from search queries. The spaCy library has been imported for you, and its English model has been loaded as nlp.\n",
        "\n",
        "Your job is to define a function called extract_entities(), which takes in a single argument message and returns a dictionary with the included entity types as keys, and the extracted entities as values. The included entity types are contained in a list called include_entities."
      ],
      "metadata": {
        "id": "zx5iNjMsXWGG"
      }
    },
    {
      "cell_type": "code",
      "source": [
        "# Define included_entities\n",
        "include_entities = ['DATE', 'ORG', 'PERSON']\n",
        "\n",
        "# Define extract_entities()\n",
        "def extract_entities(message):\n",
        "    # Create a dict to hold the entities\n",
        "    ents = dict.fromkeys(include_entities)\n",
        "    # Create a spacy document\n",
        "    doc = nlp(message)\n",
        "    for ent in doc.ents:\n",
        "        if ent.label_ in include_entities:\n",
        "            # Save interesting entities\n",
        "            ents[ent.label_] = ent.text\n",
        "    return ents\n",
        "\n",
        "print(extract_entities('friends called Mary who have worked at Google since 2010'))\n",
        "print(extract_entities('people who graduated from MIT in 1999'))"
      ],
      "metadata": {
        "id": "SRk2zQ2EXbVU"
      },
      "execution_count": null,
      "outputs": []
    },
    {
      "cell_type": "markdown",
      "source": [
        "### ***Assigning roles using spaCy's parser***\n",
        "In this exercise you'll use spaCy's powerful syntax parser to assign roles to the entities in your users' messages. To do this, you'll define two functions, find_parent_item() and assign_colors(). In doing so, you'll use a parse tree to assign roles, similar to how Alan did in the video.\n",
        "\n",
        "Recall that you can access the ancestors of a word using its .ancestors attribute."
      ],
      "metadata": {
        "id": "tr37tsTuXeMO"
      }
    },
    {
      "cell_type": "code",
      "source": [
        "# Create the document\n",
        "doc = nlp(\"let's see that jacket in red and some blue jeans\")\n",
        "\n",
        "# Iterate over parents in parse tree until an item entity is found\n",
        "def find_parent_item(word):\n",
        "    # Iterate over the word's ancestors\n",
        "    for parent in word.ancestors:\n",
        "        # Check for an \"item\" entity\n",
        "        if entity_type(parent) == \"item\":\n",
        "            return parent.text\n",
        "    return None\n",
        "\n",
        "# For all color entities, find their parent item\n",
        "def assign_colors(doc):\n",
        "    # Iterate over the document\n",
        "    for word in doc:\n",
        "        # Check for \"color\" entities\n",
        "        if entity_type(word) == \"color\":\n",
        "            # Find the parent\n",
        "            item =  find_parent_item(word)\n",
        "            print(\"item: {0} has color : {1}\".format(item, word))\n",
        "\n",
        "# Assign the colors\n",
        "assign_colors(doc) "
      ],
      "metadata": {
        "id": "5svL9-RXXf8K"
      },
      "execution_count": null,
      "outputs": []
    },
    {
      "cell_type": "markdown",
      "source": [
        "### ***Rasa NLU***\n",
        "In this exercise, you'll use Rasa NLU to create an interpreter, which parses incoming user messages and returns a set of entities. Your job is to train an interpreter using the MITIE entity recognition model in Rasa NLU."
      ],
      "metadata": {
        "id": "9JFceBr-Xi2m"
      }
    },
    {
      "cell_type": "code",
      "source": [
        "# Import necessary modules\n",
        "from rasa_nlu.converters import load_data\n",
        "from rasa_nlu.config import RasaNLUConfig\n",
        "from rasa_nlu.model import Trainer\n",
        "\n",
        "# Create args dictionary\n",
        "args = {\"pipeline\":\"spacy_sklearn\"}\n",
        "\n",
        "# Create a configuration and trainer\n",
        "config = RasaNLUConfig(cmdline_args=args)\n",
        "trainer = Trainer(config)\n",
        "\n",
        "# Load the training data\n",
        "training_data = load_data(\"./training_data.json\")\n",
        "\n",
        "# Create an interpreter by training the model\n",
        "interpreter = trainer.train(training_data)\n",
        "# Test the interpreter\n",
        "print(interpreter.parse(\"I'm looking for a Mexican restaurant in the North of town\"))"
      ],
      "metadata": {
        "id": "bI3J5-xqXkPK"
      },
      "execution_count": null,
      "outputs": []
    },
    {
      "cell_type": "markdown",
      "source": [
        "### ***Data-efficient entity recognition***\n",
        "Most systems for extracting entities from text are built to extract 'Universal' things like names, dates, and places. But you probably don't have enough training data for your bot to make these systems perform well!\n",
        "\n",
        "In this exercise, you'll activate the MITIE entity recognizer inside Rasa to extract restaurants-related entities using a very small amount of training data. A dictionary args has already been defined for you, along with a training_data object."
      ],
      "metadata": {
        "id": "WQpPGg_dXknV"
      }
    },
    {
      "cell_type": "code",
      "source": [
        "# Import necessary modules\n",
        "from rasa_nlu.config import RasaNLUConfig\n",
        "from rasa_nlu.model import Trainer\n",
        "\n",
        "pipeline = [\n",
        "    \"nlp_spacy\",\n",
        "    \"tokenizer_spacy\",\n",
        "    \"ner_crf\"\n",
        "]\n",
        "\n",
        "# Create a config that uses this pipeline\n",
        "config = RasaNLUConfig(cmdline_args={\"pipeline\":pipeline})\n",
        "\n",
        "# Create a trainer that uses this config\n",
        "trainer = Trainer(config)\n",
        "\n",
        "# Create an interpreter by training the model\n",
        "interpreter = trainer.train(training_data)\n",
        "\n",
        "# Parse some messages\n",
        "print(interpreter.parse(\"show me Chinese food in the centre of town\"))\n",
        "print(interpreter.parse(\"I want an Indian restaurant in the west\"))\n",
        "print(interpreter.parse(\"are there any good pizza places in the center?\"))"
      ],
      "metadata": {
        "id": "y0eNeMY6XoLK"
      },
      "execution_count": null,
      "outputs": []
    },
    {
      "cell_type": "markdown",
      "source": [
        "### ***SQL statements in Python***\n",
        "It's time to begin writing SQL queries! In this exercise, your job is to run a query against the hotels database to find all the expensive hotels in the south. The connection to the database has been created for you, along with a cursor c.\n",
        "\n",
        "As Alan described in the video, you should be careful about SQL injection. Here, you'll pass parameters the safe way: As an extra tuple argument to the .execute() method. This ensures malicious code can't be injected into your query."
      ],
      "metadata": {
        "id": "TgtqbLc4gBEg"
      }
    },
    {
      "cell_type": "code",
      "source": [
        "# Import sqlite3\n",
        "import sqlite3\n",
        "\n",
        "# Open connection to DB\n",
        "conn = sqlite3.connect('hotels.db')\n",
        "\n",
        "# Create a cursor\n",
        "c = conn.cursor()\n",
        "\n",
        "# Define area and price\n",
        "area, price = \"south\", \"hi\"\n",
        "t = (area, price)\n",
        "\n",
        "# Execute the query\n",
        "c.execute('SELECT * FROM hotels WHERE area=? AND price=?', t)\n",
        "\n",
        "# Print the results\n",
        "print(c.fetchall())"
      ],
      "metadata": {
        "id": "3I7NZkMz8uiC"
      },
      "execution_count": null,
      "outputs": []
    },
    {
      "cell_type": "markdown",
      "source": [
        "### ***Creating queries from parameters***\n",
        "Now you're going to implement a more powerful function for querying the hotels database. The goal is for that function to take arguments that can later be specified by other parts of your code.\n",
        "\n",
        "More specifically, your job is to define a find_hotels() function which takes a single argument - a dictionary of column names and values - and returns a list of matching hotels from the database."
      ],
      "metadata": {
        "id": "NR_8VvIX8u11"
      }
    },
    {
      "cell_type": "code",
      "source": [
        "# Define find_hotels()\n",
        "def find_hotels(params):\n",
        "    # Create the base query\n",
        "    query = 'SELECT * FROM hotels'\n",
        "    # Add filter clauses for each of the parameters\n",
        "    if len(params) > 0:\n",
        "        filters = [\"{}=?\".format(k) for k in params]\n",
        "        query += \" WHERE \" + \" and \".join(filters)\n",
        "    # Create the tuple of values\n",
        "    t = tuple(params.values())\n",
        "    \n",
        "    # Open connection to DB\n",
        "    conn = sqlite3.connect(\"hotels.db\")\n",
        "    # Create a cursor\n",
        "    c = conn.cursor()\n",
        "    # Execute the query\n",
        "    c.execute(query,t)\n",
        "    # Return the results\n",
        "    return c.fetchall()"
      ],
      "metadata": {
        "id": "htVTt6Op8yXM"
      },
      "execution_count": null,
      "outputs": []
    },
    {
      "cell_type": "markdown",
      "source": [
        "### ***Using your custom function to find hotels***\n",
        "Here, you'll see your find_hotels() function in action! Recall that it accepts a single argument, params, which is a dictionary of column names and values."
      ],
      "metadata": {
        "id": "FfxBEc2k8y3H"
      }
    },
    {
      "cell_type": "code",
      "source": [
        "# Create the dictionary of column names and values\n",
        "params = {\"area\":\"south\",\"price\":\"lo\"}\n",
        "\n",
        "# Find the hotels that match the parameters\n",
        "print(find_hotels(params))"
      ],
      "metadata": {
        "id": "C82bnhCm82j8"
      },
      "execution_count": null,
      "outputs": []
    },
    {
      "cell_type": "markdown",
      "source": [
        "### ***Creating SQL from natural language***\n",
        "Now you'll write a respond() function that can handle messages like \"I want an expensive hotel in the south of town\" and respond appropriately according to the number of matching results in a database. This is an important functionality for any database-backed chatbot.\n",
        "\n",
        "Your find_hotels() function from the previous exercises has already been defined for you, along with a Rasa NLU interpreter object, which can handle hotel queries, and a list of responses, which you can explore in the Shell."
      ],
      "metadata": {
        "id": "Un-_3axE82w0"
      }
    },
    {
      "cell_type": "code",
      "source": [
        "# Define respond()\n",
        "def respond(message):\n",
        "    # Extract the entities\n",
        "    entities = interpreter.parse(message)[\"entities\"]\n",
        "    # Initialize an empty params dictionary\n",
        "    params = {}\n",
        "    # Fill the dictionary with entities\n",
        "    for ent in entities:\n",
        "        params[ent[\"entity\"]] = str(ent[\"value\"])\n",
        "\n",
        "    # Find hotels that match the dictionary\n",
        "    results = find_hotels(params)\n",
        "    # Get the names of the hotels and index of the response\n",
        "    names = [r[0] for r in results]\n",
        "    n = min(len(results),3)\n",
        "    # Select the nth element of the responses array\n",
        "    return responses[n].format(*names)\n",
        "\n",
        "\n",
        "\n",
        "# Test the respond() function\n",
        "respond(\"I want an expensive hotel in the south of town\")"
      ],
      "metadata": {
        "id": "EaWi9_sq86hl"
      },
      "execution_count": null,
      "outputs": []
    },
    {
      "cell_type": "markdown",
      "source": [
        "### ***Refining your search***\n",
        "Now you'll write a bot that allows users to add filters incrementally, just in case they don't specify all of their preferences in one message.\n",
        "\n",
        "To do this, initialize an empty dictionary params outside of your respond() function (as opposed to inside the function, like in the previous exercise). Your respond() function will take in this dictionary as an argument."
      ],
      "metadata": {
        "id": "KJW0zS3y866T"
      }
    },
    {
      "cell_type": "code",
      "source": [
        "# Define a respond function, taking the message and existing params as input\n",
        "def respond(message, params):\n",
        "    # Extract the entities\n",
        "    entities = interpreter.parse(message)[\"entities\"]\n",
        "    # Fill the dictionary with entities\n",
        "    for ent in entities:\n",
        "        params[ent[\"entity\"]] = str(ent[\"value\"])\n",
        "\n",
        "    # Find the hotels\n",
        "    results = find_hotels(params)\n",
        "    names = [r[0] for r in results]\n",
        "    n = min(len(results), 3)\n",
        "    # Return the appropriate response\n",
        "    return responses[n].format(*names), params\n",
        "\n",
        "# Initialize params dictionary\n",
        "params = {}\n",
        "\n",
        "# Pass the messages to the bot\n",
        "for message in [\"I want an expensive hotel\", \"in the north of town\"]:\n",
        "    print(\"USER: {}\".format(message))\n",
        "    response, params = respond(message, params)\n",
        "    print(\"BOT: {}\".format(response))"
      ],
      "metadata": {
        "id": "zLywN6GJ8-t9"
      },
      "execution_count": null,
      "outputs": []
    },
    {
      "cell_type": "markdown",
      "source": [
        "### ***Basic negation***\n",
        "Quite often, you'll find your users telling you what they don't want - and that's important to understand! In general, negation is a difficult problem in NLP. Here, we'll take a very simple approach that works for many cases.\n",
        "\n",
        "A list of tests called tests has been defined for you. Explore it in the Shell - you'll find that each test is a tuple consisting of:\n",
        "\n",
        "A string containing a message with entities.\n",
        "A dictionary containing the entities as keys and a Boolean saying whether they are negated as the key.\n",
        "Your job is to define a function called negated_ents() which looks for negated entities in a message."
      ],
      "metadata": {
        "id": "D_ez2Vme8_B-"
      }
    },
    {
      "cell_type": "code",
      "source": [
        "# Define negated_ents()\n",
        "def negated_ents(phrase):\n",
        "    # Extract the entities using keyword matching\n",
        "    ents = [e for e in [\"south\", \"north\"] if e in phrase]\n",
        "    # Find the index of the final character of each entity\n",
        "    ends = sorted([phrase.index(e) + len(e) for e in ents])\n",
        "    # Initialise a list to store sentence chunks\n",
        "    chunks = []\n",
        "    # Take slices of the sentence up to and including each entitiy\n",
        "    start = 0\n",
        "    for end in ends:\n",
        "        chunks.append(phrase[start:end])\n",
        "        start = end\n",
        "    result = {}\n",
        "    # Iterate over the chunks and look for entities\n",
        "    for chunk in chunks:\n",
        "        for ent in ents:\n",
        "            if ent in chunk:\n",
        "                # If the entity contains a negation, assign the key to be False\n",
        "                if \"not\" in chunk or \"n't\" in chunk:\n",
        "                    result[ent] = False\n",
        "                else:\n",
        "                    result[ent] = True\n",
        "    return result  \n",
        "\n",
        "# Check that the entities are correctly assigned as True or False\n",
        "for test in tests:\n",
        "    print(negated_ents(test[0]) == test[1])"
      ],
      "metadata": {
        "id": "PU78ViHV9CKK"
      },
      "execution_count": null,
      "outputs": []
    },
    {
      "cell_type": "markdown",
      "source": [
        "### ***Filtering with excluded slots***\n",
        "Now you're going to put together some of the ideas from previous exercises in order to allow users to tell your bot about what they do and do not want, split across multiple messages.\n",
        "\n",
        "The negated_ents() function has already been defined for you. Additionally, a slightly tweaked version of the find_hotels() function, which accepts a neg_params dictionary in addition to a params dictionary, has been defined."
      ],
      "metadata": {
        "id": "IG6Gev0j9CgF"
      }
    },
    {
      "cell_type": "code",
      "source": [
        "# Define the respond function\n",
        "def respond(message,params,neg_params):\n",
        "    # Extract the entities\n",
        "    entities = interpreter.parse(message)[\"entities\"]\n",
        "    ent_vals = [e[\"value\"] for e in entities]\n",
        "    # Look for negated entities\n",
        "    negated = negated_ents(message,ent_vals)\n",
        "    for ent in entities:\n",
        "        if ent[\"value\"] in negated and negated[ent[\"value\"]]:\n",
        "            neg_params[ent[\"entity\"]] = str(ent[\"value\"])\n",
        "        else:\n",
        "            params[ent[\"entity\"]] = str(ent[\"value\"])\n",
        "    # Find the hotels\n",
        "    results = find_hotels(params,neg_params)\n",
        "    names = [r[0] for r in results]\n",
        "    n = min(len(results),3)\n",
        "    # Return the correct response\n",
        "    return responses[n].format(*names), params, neg_params\n",
        "\n",
        "# Initialize params and neg_params\n",
        "params = {}\n",
        "neg_params = {}\n",
        "\n",
        "# Pass the messages to the bot\n",
        "for message in [\"I want a cheap hotel\", \"but not in the north of town\"]:\n",
        "    print(\"USER: {}\".format(message))\n",
        "    response, params, neg_params = respond(message, params, neg_params)\n",
        "    print(\"BOT: {}\".format(response))"
      ],
      "metadata": {
        "id": "Vy0GRXd_9FRG"
      },
      "execution_count": null,
      "outputs": []
    },
    {
      "cell_type": "markdown",
      "source": [
        "### ***Form filling***\n",
        "You'll often want your bot to guide users through a series of steps, such as when they're placing an order.\n",
        "\n",
        "In this exercise, you'll begin building a bot that lets users order coffee. They can choose between two types: Colombian and Kenyan. If the user provides unexpected input, your bot will handle this differently depending on where they are in the flow.\n",
        "\n",
        "Your job here is to identify the appropriate state and next state based on the intents and response messages provided. For example, if the intent is \"order\", then the state changes from INIT to CHOOSE_COFFEE.\n",
        "\n",
        "A function send_message(policy, state, message) has already been defined for you. It takes the policy, the current state, and message as arguments, and returns the new state as a result. Additionally, an interpret(message) function, similar to the one Alan described in the video, has been pre-defined for you."
      ],
      "metadata": {
        "id": "7QHoIYrn9Fh_"
      }
    },
    {
      "cell_type": "code",
      "source": [
        "# Define the INIT state\n",
        "INIT = 0\n",
        "\n",
        "# Define the CHOOSE_COFFEE state\n",
        "CHOOSE_COFFEE = 1\n",
        "\n",
        "# Define the ORDERED state\n",
        "ORDERED = 2\n",
        "\n",
        "# Define the policy rules\n",
        "policy = {\n",
        "    (INIT, \"order\"): (CHOOSE_COFFEE, \"ok, Colombian or Kenyan?\"),\n",
        "    (INIT, \"none\"): (INIT, \"I'm sorry - I'm not sure how to help you\"),\n",
        "    (CHOOSE_COFFEE, \"specify_coffee\"): (ORDERED, \"perfect, the beans are on their way!\"),\n",
        "    (CHOOSE_COFFEE, \"none\"): (CHOOSE_COFFEE, \"I'm sorry - would you like Colombian or Kenyan?\"),\n",
        "}\n",
        "\n",
        "# Create the list of messages\n",
        "messages = [\n",
        "    \"I'd like to become a professional dancer\",\n",
        "    \"well then I'd like to order some coffee\",\n",
        "    \"my favourite animal is a zebra\",\n",
        "    \"kenyan\"\n",
        "]\n",
        "\n",
        "# Call send_message() for each message\n",
        "state = INIT\n",
        "for message in messages:    \n",
        "    state = send_message(policy, state, message)"
      ],
      "metadata": {
        "id": "1ZjfZ4F6NhOo"
      },
      "execution_count": null,
      "outputs": []
    },
    {
      "cell_type": "markdown",
      "source": [
        "### ***Asking contextual questions***\n",
        "Sometimes your users need some help! They will have questions and expect the bot to help them.\n",
        "\n",
        "In this exercise, you'll allow users to ask the coffee bot to explain the steps to them. As in the previous exercise, the answer they get will depend on where they are in the flow."
      ],
      "metadata": {
        "id": "YrSTBOvoNhtN"
      }
    },
    {
      "cell_type": "code",
      "source": [
        "# Define the states\n",
        "INIT=0 \n",
        "CHOOSE_COFFEE=1\n",
        "ORDERED=2\n",
        "\n",
        "# Define the policy rules dictionary\n",
        "policy_rules = {\n",
        "    (INIT, \"ask_explanation\"): (INIT, \"I'm a bot to help you order coffee beans\"),\n",
        "    (INIT, \"order\"): (CHOOSE_COFFEE, \"ok, Colombian or Kenyan?\"),\n",
        "    (CHOOSE_COFFEE, \"specify_coffee\"): (ORDERED, \"perfect, the beans are on their way!\"),\n",
        "    (CHOOSE_COFFEE, \"ask_explanation\"): (CHOOSE_COFFEE, \"We have two kinds of coffee beans - the Kenyan ones make a slightly sweeter coffee, and cost $6. The Brazilian beans make a nutty coffee and cost $5.\")    \n",
        "}\n",
        "\n",
        "# Define send_messages()\n",
        "def send_messages(messages):\n",
        "    state = INIT\n",
        "    for msg in messages:\n",
        "        state = send_message(state,msg)\n",
        "\n",
        "# Send the messages\n",
        "send_messages([\n",
        "    \"what can you do for me?\",\n",
        "    \"well then I'd like to order some coffee\",\n",
        "    \"what do you mean by that?\",\n",
        "    \"kenyan\"\n",
        "])"
      ],
      "metadata": {
        "id": "UjZ2XvPLNmJG"
      },
      "execution_count": null,
      "outputs": []
    },
    {
      "cell_type": "markdown",
      "source": [
        "### ***Dealing with rejection***\n",
        "What happens if you make a suggestion to your user and they don't like it? Your bot will look really silly if it makes the same suggestion again right away.\n",
        "\n",
        "Here, you're going to modify your respond() function so that it accepts and returns 4 arguments:\n",
        "\n",
        "The user message as an argument, and the bot response as the first return value.\n",
        "A dictionary params including the entities the user has specified.\n",
        "A prev_suggestions list. When passed to respond(), this should contain the suggestions made in the previous bot message. When returned by respond(), it should contain the current suggestions.\n",
        "An excluded list, which contains all of the results your user has already explicitly rejected.\n",
        "Your function should add the previous suggestions to the excluded list whenever it receives a \"deny\" intent. It should also filter out excluded suggestions from the response."
      ],
      "metadata": {
        "id": "yhrxmYERNrlS"
      }
    },
    {
      "cell_type": "code",
      "source": [
        "# Define respond()\n",
        "def respond(message, params, prev_suggestions, excluded):\n",
        "    # Interpret the message\n",
        "    parse_data = interpret(message)\n",
        "    # Extract the intent\n",
        "    intent = parse_data[\"intent\"][\"name\"]\n",
        "    # Extract the entities\n",
        "    entities = parse_data[\"entities\"]\n",
        "    # Add the suggestion to the excluded list if intent is \"deny\"\n",
        "    if intent == \"deny\":\n",
        "        excluded.extend(prev_suggestions)\n",
        "    # Fill the dictionary with entities\t\n",
        "    for ent in entities:\n",
        "        params[ent[\"entity\"]] = str(ent[\"value\"])\n",
        "    # Find matching hotels\n",
        "    results = [\n",
        "        r \n",
        "        for r in find_hotels(params, excluded) \n",
        "        if r[0] not in excluded\n",
        "    ]\n",
        "    # Extract the suggestions\n",
        "    names = [r[0] for r in results]\n",
        "    n = min(len(results), 3)\n",
        "    suggestions = names[:2]\n",
        "    return responses[n].format(*names), params, suggestions, excluded\n",
        "\n",
        "# Initialize the empty dictionary and lists\n",
        "params, suggestions, excluded = {}, [], []\n",
        "\n",
        "# Send the messages\n",
        "for message in [\"I want a mid range hotel\", \"no that doesn't work for me\"]:\n",
        "    print(\"USER: {}\".format(message))\n",
        "    response, params, suggestions, excluded = respond(message, params, suggestions, excluded)\n",
        "    print(\"BOT: {}\".format(response))"
      ],
      "metadata": {
        "id": "iHNoCpbjNtHE"
      },
      "execution_count": null,
      "outputs": []
    },
    {
      "cell_type": "markdown",
      "source": [
        "### ***Pending actions I***\n",
        "You can really improve the user experience of your bot by asking the user simple yes or no follow-up questions. One easy way to handle these follow-ups is to define pending actions which get executed as soon as the user says \"yes\", and wiped if the user says \"no\".\n",
        "\n",
        "In this exercise, you're going to define a policy() function which takes the intent as its sole argument and returns two values: The next action to take and a pending action. The policy function should return this pending action when a \"yes\" or \"affirm\" intent is returned and should wipe the pending actions if a \"no\" or \"deny\" intent is returned.\n",
        "\n",
        "Here, the interpret(message) function has been defined for you such that if \"yes\" is in the message, \"affirm\" is returned, and if \"no\" is in the message, then \"deny\" is returned."
      ],
      "metadata": {
        "id": "YOGoW_vXNtig"
      }
    },
    {
      "cell_type": "code",
      "source": [
        "# Define policy()\n",
        "def policy(intent):\n",
        "    # Return \"do_pending\" if the intent is \"affirm\"\n",
        "    if intent == \"affirm\":\n",
        "        return \"do_pending\", None\n",
        "    # Return \"Ok\" if the intent is \"deny\"\n",
        "    if intent == \"deny\":\n",
        "        return \"Ok\", None\n",
        "    if intent == \"order\":\n",
        "        return \"Unfortunately, the Kenyan coffee is currently out of stock, would you like to order the Brazilian beans?\", \"Alright, I've ordered that for you!\""
      ],
      "metadata": {
        "id": "9JhP6qCSNzeu"
      },
      "execution_count": null,
      "outputs": []
    },
    {
      "cell_type": "markdown",
      "source": [
        "### ***Pending actions II***\n",
        "Having defined your policy() function, it's now time to write a send_message() function which takes both a pending action and a message as its arguments and leverages the policy() function to determine the bot's response.\n",
        "\n",
        "Your policy(intent) function from the previous exercise has been pre-loaded."
      ],
      "metadata": {
        "id": "z2SpKN3MNz4S"
      }
    },
    {
      "cell_type": "code",
      "source": [
        "# Define send_message()\n",
        "def send_message(pending, message):\n",
        "    print(\"USER : {}\".format(message))\n",
        "    action, pending_action = policy(interpret(message))\n",
        "    if action == \"do_pending\" and pending is not None:\n",
        "        print(\"BOT : {}\".format(pending))\n",
        "    else:\n",
        "        print(\"BOT : {}\".format(action))\n",
        "    return pending_action\n",
        "    \n",
        "# Define send_messages()\n",
        "def send_messages(messages):\n",
        "    pending = None\n",
        "    for msg in messages:\n",
        "        pending = send_message(pending,msg)\n",
        "\n",
        "# Send the messages\n",
        "send_messages([\n",
        "    \"I'd like to order some coffee\",\n",
        "    \"ok yes please\"\n",
        "])"
      ],
      "metadata": {
        "id": "gp1UoYseN3Zg"
      },
      "execution_count": null,
      "outputs": []
    },
    {
      "cell_type": "markdown",
      "source": [
        "### ***Pending state transitions***\n",
        "You'll often need to briefly deviate from the flow of a conversation, for example to authenticate a user, before returning to the topic of discussion.\n",
        "\n",
        "In these cases, it's often simpler - and easier to debug - if you save some actions/states as pending rather than adding ever more complicated rules.\n",
        "\n",
        "Here, you're going to define a policy_rules dictionary, where the keys are tuples of the current state and the received intent, and the values are tuples of the next state, the bot's response, and a state for which to set a pending transition."
      ],
      "metadata": {
        "id": "hpzC5UDGN3zQ"
      }
    },
    {
      "cell_type": "code",
      "source": [
        "# Define the states\n",
        "INIT=0\n",
        "AUTHED=1\n",
        "CHOOSE_COFFEE=2\n",
        "ORDERED=3\n",
        "\n",
        "# Define the policy rules\n",
        "policy_rules = {\n",
        "    (INIT, \"order\"): (INIT, \"you'll have to log in first, what's your phone number?\", AUTHED),\n",
        "    (INIT, \"number\"): (AUTHED, \"perfect, welcome back!\", None),\n",
        "    (AUTHED, \"order\"): (CHOOSE_COFFEE, \"would you like Colombian or Kenyan?\", None),    \n",
        "    (CHOOSE_COFFEE, \"specify_coffee\"): (ORDERED, \"perfect, the beans are on their way!\", None)\n",
        "}\n",
        "\n",
        "# Define send_messages()\n",
        "def send_messages(messages):\n",
        "    state = INIT\n",
        "    pending = None\n",
        "    for msg in messages:\n",
        "        state, pending = send_message(state, pending, msg)\n",
        "\n",
        "# Send the messages\n",
        "send_messages([\n",
        "    \"I'd like to order some coffee\",\n",
        "    \"555-1234\",\n",
        "    \"kenyan\"\n",
        "])"
      ],
      "metadata": {
        "id": "vasHMBgBN7lO"
      },
      "execution_count": null,
      "outputs": []
    },
    {
      "cell_type": "markdown",
      "source": [
        "### ***Putting it all together I***\n",
        "It's time to put everything you've learned in the course together by combining the coffee ordering bot with the ELIZA rules from chapter 1.\n",
        "\n",
        "To begin, you'll define a function called chitchat_response(), which calls the predefined function match_rule() from back in chapter 1. This returns a response if the message matched an ELIZA template, and otherwise, None.\n",
        "\n",
        "The ELIZA rules are contained in a dictionary called eliza_rules."
      ],
      "metadata": {
        "id": "gR7VyLngN8Ac"
      }
    },
    {
      "cell_type": "code",
      "source": [
        "# Define chitchat_response()\n",
        "def chitchat_response(message):\n",
        "    # Call match_rule()\n",
        "    response, phrase = match_rule(eliza_rules,message)\n",
        "    # Return none if response is \"default\"\n",
        "    if response == \"default\":\n",
        "        return None\n",
        "    if '{0}' in response:\n",
        "        # Replace the pronouns of phrase\n",
        "        phrase = replace_pronouns(phrase)\n",
        "        # Calculate the response\n",
        "        response = response.format(phrase)\n",
        "    return response"
      ],
      "metadata": {
        "id": "_mTDxVseN_Zu"
      },
      "execution_count": null,
      "outputs": []
    },
    {
      "cell_type": "markdown",
      "source": [
        "### ***Putting it all together II***\n",
        "With your chitchat_response(message) function defined, the next step is to define a send_message() function. This function should first call chitchat_response(message) and only use the coffee bot policy if there is no matching message."
      ],
      "metadata": {
        "id": "wEmSHTDqN_2Y"
      }
    },
    {
      "cell_type": "code",
      "source": [
        "# Define send_message()\n",
        "def send_message(state, pending,  message):\n",
        "    print(\"USER : {}\".format(message))\n",
        "    response = chitchat_response(message)\n",
        "    if response is not None:\n",
        "        print(\"BOT : {}\".format(response))\n",
        "        return state, None\n",
        "    \n",
        "    # Calculate the new_state, response, and pending_state\n",
        "    new_state, response, pending_state = policy_rules[(state,interpret(message))]\n",
        "    print(\"BOT : {}\".format(response))\n",
        "    if pending is not None:\n",
        "        new_state, response, pending_state = policy_rules[pending]\n",
        "        print(\"BOT : {}\".format(response))        \n",
        "    if pending_state is not None:\n",
        "        pending = (pending_state, interpret(message))\n",
        "    return new_state, pending\n",
        "\n",
        "# Define send_messages()\n",
        "def send_messages(messages):\n",
        "    state = INIT\n",
        "    pending = None\n",
        "    for msg in messages:\n",
        "        state, pending = send_message(state, pending, msg)\n",
        "\n",
        "# Send the messages\n",
        "send_messages([\n",
        "    \"I'd like to order some coffee\",\n",
        "    \"555-12345\",\n",
        "    \"do you remember when I ordered 1000 kilos by accident?\",\n",
        "    \"kenyan\"\n",
        "])  "
      ],
      "metadata": {
        "id": "g_lEeKjbODa2"
      },
      "execution_count": null,
      "outputs": []
    },
    {
      "cell_type": "markdown",
      "source": [
        "### ***Generating text with neural networks***\n",
        "In this final exercise of the course, you're going to generate text using a neural network trained on the scripts of every episode of The Simpsons. Specifically, you'll use a simplified version of the sample_text() function that Alan described in the video.\n",
        "\n",
        "It takes in two arguments: seed and temperature. The seed argument is the initial sequence that the network uses to generate the subsequent text, while the temperature argument controls how risky the network is when generating text. At very low temperatures, it just repeats the most common combinations of letters, and at very high temperatures, it generates complete gibberish. In order to ensure fast runtimes, the network in this exercise will only work for a subset of temperature values.\n",
        "\n",
        "After you finish this exercise, be sure to check out this tutorial by Alan where he walks you through how to connect a chatbot to Facebook Messenger!"
      ],
      "metadata": {
        "id": "2csnNW2uODt8"
      }
    },
    {
      "cell_type": "code",
      "source": [
        "# Feed the seed text into the neural network\n",
        "seed = \"i'm gonna punch lenny in the back of the\"\n",
        "\n",
        "# Iterate over the different temperature values\n",
        "for temperature in [0.2, 0.5, 1.0, 1.2]:\n",
        "    print(\"\\nGenerating text with riskiness : {}\\n\".format(temperature))\n",
        "    # Call the sample_text function\n",
        "    print(sample_text(seed,temperature))"
      ],
      "metadata": {
        "id": "JQW_D9UDOH_Q"
      },
      "execution_count": null,
      "outputs": []
    }
  ]
}